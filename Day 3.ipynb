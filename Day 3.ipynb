{
 "cells": [
  {
   "cell_type": "markdown",
   "id": "3ae85e2d",
   "metadata": {},
   "source": [
    "# This is day 3 of the coding"
   ]
  },
  {
   "cell_type": "code",
   "execution_count": 41,
   "id": "d5b1e49d",
   "metadata": {},
   "outputs": [
    {
     "name": "stdout",
     "output_type": "stream",
     "text": [
      "列表理解\n",
      "enter the n value6\n",
      "1\n",
      "2\n",
      "3\n",
      "4\n",
      "5\n",
      "6\n"
     ]
    }
   ],
   "source": [
    "\n",
    "def ma(n):\n",
    "    ele=0\n",
    "    li=[]\n",
    "    for i in range(n):\n",
    "        ele=int(input())\n",
    "        li.append(ele)\n",
    "    mul=1\n",
    "    for i in range(len(li)):\n",
    "        mul=mul*li[i]\n",
    "    return mul\n",
    "n=int(input(\"enter the n value\"))\n",
    "if n<=0:\n",
    "    print(\"Invalid\")\n",
    "else:\n",
    "    ma(n)"
   ]
  },
  {
   "cell_type": "code",
   "execution_count": 24,
   "id": "b44db049",
   "metadata": {},
   "outputs": [
    {
     "name": "stdout",
     "output_type": "stream",
     "text": [
      "1 2 3 4 5 6\n",
      "False : there is no duplicates\n"
     ]
    }
   ],
   "source": [
    "l=list(map(int,input().split(\" \")))\n",
    "s=set(l)\n",
    "a=len(l)\n",
    "b=len(s)\n",
    "if a==b:\n",
    "    print(\"False : there is no duplicates\")\n",
    "else:\n",
    "    print(\"True : there is duplicates\")"
   ]
  },
  {
   "cell_type": "code",
   "execution_count": 27,
   "id": "ca5973cd",
   "metadata": {},
   "outputs": [
    {
     "name": "stdout",
     "output_type": "stream",
     "text": [
      "[[1, 4, 27, 16], [125, 36, 343, 64], [729, 100, 1331, 144]]\n"
     ]
    }
   ],
   "source": [
    "mat=[[1,2,3,4],[5,6,7,8],[9,10,11,12]]\n",
    "mat1=[]\n",
    "for i in mat:\n",
    "    li=[]\n",
    "    for j in i:\n",
    "        if j%2==0:\n",
    "            k=j**2\n",
    "            li.append(k)\n",
    "        else:\n",
    "            k=j**3\n",
    "            li.append(k)\n",
    "    mat1.append(li)\n",
    "print(mat1)"
   ]
  },
  {
   "cell_type": "code",
   "execution_count": 29,
   "id": "6585ace8",
   "metadata": {},
   "outputs": [
    {
     "name": "stdout",
     "output_type": "stream",
     "text": [
      "[[1, 4, 27, 16], [125, 36, 343, 64], [729, 100, 1331, 144]]\n"
     ]
    }
   ],
   "source": [
    "mat=[[1,2,3,4],[5,6,7,8],[9,10,11,12]]\n",
    "l=[[j**2 if(j%2==0) else j**3 for j in i]for i in mat]\n",
    "print(l)"
   ]
  },
  {
   "cell_type": "code",
   "execution_count": 42,
   "id": "1f843e56",
   "metadata": {},
   "outputs": [
    {
     "name": "stdout",
     "output_type": "stream",
     "text": [
      "[(6, 2), (6, 2), (1, 3), (2, 7), (2, 7), (4, 8)]\n",
      "the list is a indexed [(6, 2), (4, 8), (6, 2), (1, 3), (2, 7), (2, 7)]\n",
      "{6: 2, 1: 3, 2: 7, 4: 8}\n",
      "the value is paried {(6, 2): 2, (1, 3): 1, (2, 7): 2, (4, 8): 1}\n",
      "the comprehention list is [(6, 2), (4, 8), (6, 2), (1, 3), (2, 7), (2, 7)]\n"
     ]
    }
   ],
   "source": [
    "mylist=[9,3,6,1,5,0,8,2,4,7]\n",
    "list_b=[6,4,6,1,2,2]\n",
    "li=[]\n",
    "for i in range(len(mylist)):\n",
    "    tup=()\n",
    "    for j in list_b:\n",
    "        if mylist[i]==j:\n",
    "            tup=(j,i)\n",
    "            li.append(tup)\n",
    "print(li)\n",
    "#to reduce the time complexity in single list\n",
    "li1=[]\n",
    "for i in list_b:\n",
    "    li1.append((i,mylist.index(i)))\n",
    "print(\"the list is a indexed\",li1)\n",
    "#the values dictonary is\n",
    "print(dict(li))\n",
    "#the pair of the set in dictonary\n",
    "dict1={}\n",
    "for i in li:\n",
    "    if i in dict1:\n",
    "        dict1[i]=dict1[i]+1\n",
    "    else:\n",
    "        dict1[i]=1\n",
    "print(\"the value is paried\",dict1)\n",
    "#list comprehensition method\n",
    "l=[(i,mylist.index(i)) for i in list_b]\n",
    "print(\"the comprehention list is\",l)"
   ]
  },
  {
   "cell_type": "code",
   "execution_count": 58,
   "id": "fcd1e9c2",
   "metadata": {},
   "outputs": [
    {
     "name": "stdout",
     "output_type": "stream",
     "text": [
      "[['a', 'new', 'world', 'record', 'was', 'set'], ['in', 'the', 'holy', 'city', 'of', 'ayodhya'], ['on', 'the', 'eve', 'of', 'diwali', 'on', 'tuesday'], ['with', 'over', 'three', 'lakh', 'diya', 'or', 'earthen', 'lamps'], ['lit', 'up', 'simultaneously', 'on', 'the', 'banks', 'of', 'the', 'sarayu', 'river']]\n",
      "________________________________\n",
      "['new', 'world', 'record', 'set', 'holy', 'city', 'ayodhya', 'eve', 'diwali', 'tuesday', 'over', 'three', 'lakh', 'diya', 'or', 'earthen', 'lamps', 'lit', 'up', 'simultaneously', 'banks', 'sarayu', 'river']\n"
     ]
    }
   ],
   "source": [
    "sentences = [\"a new world record was set\", \"in the holy city of ayodhya\",\n",
    "\n",
    "\"on the eve of diwali on tuesday\",\"with over three lakh diya or earthen lamps\", \"lit up simultaneously on the banks of the sarayu river\"]\n",
    "stopwords = ['for', 'a', 'of', 'the', 'and', 'to', 'in','on', 'with','was']\n",
    "li=[]\n",
    "l1=[]\n",
    "for i in sentences:\n",
    "    i=i.split(\" \")\n",
    "    li.append(i)\n",
    "li=[i.split(\" \") for i in sentences]\n",
    "for j in li:\n",
    "    for k in j:\n",
    "        if k in stopwords:\n",
    "            continue\n",
    "        else:\n",
    "            l1.append(k)\n",
    "print(li)\n",
    "print(\"________________________________\")\n",
    "print(l1)\n",
    "        \n",
    "        \n",
    "\n"
   ]
  },
  {
   "cell_type": "code",
   "execution_count": null,
   "id": "7fb9a949",
   "metadata": {},
   "outputs": [],
   "source": [
    " s1=input(\"enter the string\")\n",
    "s2=input(\"enter the string\")\n",
    "st1=s1.split(\":\")\n",
    "st2=s2.split(\":\")\n",
    "sq1=0\n",
    "sq2=0\n",
    "l1=list(st1)\n",
    "l2=list(st2)\n",
    "a=int(l1[1])\n",
    "b=int(l2[1])\n",
    "while(a!=0):\n",
    "    rem=a%10\n",
    "    sq1=sq1+rem**2\n",
    "    a=a//10\n",
    "while(b!=0):\n",
    "    rem=b%10\n",
    "    sq2=sq2+rem**2\n",
    "    b=b//10\n",
    "if sq1%2==0:\n",
    "    print(\"trhd\")\n",
    "else:\n",
    "    print(\"thdr\")\n",
    "if sq2%2==0:\n",
    "    print(\"dghft\")\n",
    "else:\n",
    "    print(\"ftdgh\")\n",
    "\n",
    "    \n",
    "\n",
    "\n",
    "\n",
    "\n"
   ]
  },
  {
   "cell_type": "code",
   "execution_count": null,
   "id": "08b43d59",
   "metadata": {},
   "outputs": [],
   "source": []
  }
 ],
 "metadata": {
  "kernelspec": {
   "display_name": "Python 3 (ipykernel)",
   "language": "python",
   "name": "python3"
  },
  "language_info": {
   "codemirror_mode": {
    "name": "ipython",
    "version": 3
   },
   "file_extension": ".py",
   "mimetype": "text/x-python",
   "name": "python",
   "nbconvert_exporter": "python",
   "pygments_lexer": "ipython3",
   "version": "3.9.7"
  }
 },
 "nbformat": 4,
 "nbformat_minor": 5
}
